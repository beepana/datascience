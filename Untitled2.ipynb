{
 "cells": [
  {
   "cell_type": "code",
   "execution_count": 1,
   "metadata": {
    "collapsed": true
   },
   "outputs": [],
   "source": [
    "import requests"
   ]
  },
  {
   "cell_type": "code",
   "execution_count": 2,
   "metadata": {
    "collapsed": true
   },
   "outputs": [],
   "source": [
    "res = requests.get('http://www.nepalstock.com')"
   ]
  },
  {
   "cell_type": "code",
   "execution_count": 4,
   "metadata": {
    "collapsed": false
   },
   "outputs": [
    {
     "data": {
      "text/plain": [
       "200"
      ]
     },
     "execution_count": 4,
     "metadata": {},
     "output_type": "execute_result"
    }
   ],
   "source": [
    "res.status_code"
   ]
  },
  {
   "cell_type": "code",
   "execution_count": 5,
   "metadata": {
    "collapsed": true
   },
   "outputs": [],
   "source": [
    "from bs4 import BeautifulSoup"
   ]
  },
  {
   "cell_type": "code",
   "execution_count": 6,
   "metadata": {
    "collapsed": true
   },
   "outputs": [],
   "source": [
    "soup=BeautifulSoup(res.text,'lxml')"
   ]
  },
  {
   "cell_type": "code",
   "execution_count": 7,
   "metadata": {
    "collapsed": false
   },
   "outputs": [
    {
     "data": {
      "text/plain": [
       "<table class=\"table table-hover table-condensed nepse-market-list\" id=\"top-by-turnover\">\n",
       "<thead>\n",
       "<tr class=\"rowtitle1\" valign=\"top\">\n",
       "<th>Symbol</th>\n",
       "<th class=\"alnright\">Turnover</th>\n",
       "<th class=\"alnright\">\n",
       "                    Closing Price                  </th>\n",
       "</tr>\n",
       "</thead>\n",
       "<tbody>\n",
       "<tr> <td colspan=\"4\">As of 2017-04-04 15:00:00</td></tr>\n",
       "<tr>\n",
       "<td data-toggle=\"tooltip\" title=\"Nepal Bank Limited\"><b>NBL</b></td>\n",
       "<td align=\"right\">128,530,720.00</td>\n",
       "<td align=\"right\">525.00</td>\n",
       "</tr>\n",
       "<tr>\n",
       "<td data-toggle=\"tooltip\" title=\"Nepal Credit And Commercial Bank Limited\"><b>NCCB</b></td>\n",
       "<td align=\"right\">67,386,111.00</td>\n",
       "<td align=\"right\">415.00</td>\n",
       "</tr>\n",
       "<tr>\n",
       "<td data-toggle=\"tooltip\" title=\"Gurans Life Insurance Company Ltd.\"><b>GLICL</b></td>\n",
       "<td align=\"right\">66,009,280.00</td>\n",
       "<td align=\"right\">1,049.00</td>\n",
       "</tr>\n",
       "<tr>\n",
       "<td data-toggle=\"tooltip\" title=\"Lumbini General Insurance Co. Ltd.\"><b>LGIL</b></td>\n",
       "<td align=\"right\">58,483,723.00</td>\n",
       "<td align=\"right\">1,824.00</td>\n",
       "</tr>\n",
       "<tr>\n",
       "<td data-toggle=\"tooltip\" title=\"Prabhu  Bank Limited\"><b>PRVU</b></td>\n",
       "<td align=\"right\">53,325,161.00</td>\n",
       "<td align=\"right\">404.00</td>\n",
       "</tr>\n",
       "<tr>\n",
       "<td data-toggle=\"tooltip\" title=\"Prime Life Insurance Company Limited\"><b>PLIC</b></td>\n",
       "<td align=\"right\">51,977,453.00</td>\n",
       "<td align=\"right\">2,197.00</td>\n",
       "</tr>\n",
       "<tr>\n",
       "<td data-toggle=\"tooltip\" title=\"Sunrise Bank Limited\"><b>SRBL</b></td>\n",
       "<td align=\"right\">46,553,849.00</td>\n",
       "<td align=\"right\">559.00</td>\n",
       "</tr>\n",
       "<tr>\n",
       "<td data-toggle=\"tooltip\" title=\"Surya Life Insurance Company Limited\"><b>SLICL</b></td>\n",
       "<td align=\"right\">39,209,311.00</td>\n",
       "<td align=\"right\">1,030.00</td>\n",
       "</tr>\n",
       "<tr>\n",
       "<td data-toggle=\"tooltip\" title=\"United Insurance Co. (Nepal) Ltd.\"><b>UIC</b></td>\n",
       "<td align=\"right\">36,686,777.00</td>\n",
       "<td align=\"right\">1,464.00</td>\n",
       "</tr>\n",
       "<tr>\n",
       "<td data-toggle=\"tooltip\" title=\"National Life Insurance Co. Ltd.\"><b>NLICL</b></td>\n",
       "<td align=\"right\">35,089,995.00</td>\n",
       "<td align=\"right\">2,480.00</td>\n",
       "</tr>\n",
       "<tr class=\"row1\" valign=\"top\">\n",
       "<td colspan=\"3\" style=\"text-align:right;\"><a href=\"http://www.nepalstock.com/turnovers\">View All</a></td>\n",
       "</tr>\n",
       "</tbody>\n",
       "</table>"
      ]
     },
     "execution_count": 7,
     "metadata": {},
     "output_type": "execute_result"
    }
   ],
   "source": [
    "soup.find('table',id='top-by-turnover')"
   ]
  },
  {
   "cell_type": "code",
   "execution_count": null,
   "metadata": {
    "collapsed": true
   },
   "outputs": [],
   "source": []
  }
 ],
 "metadata": {
  "kernelspec": {
   "display_name": "Python 3",
   "language": "python",
   "name": "python3"
  },
  "language_info": {
   "codemirror_mode": {
    "name": "ipython",
    "version": 3
   },
   "file_extension": ".py",
   "mimetype": "text/x-python",
   "name": "python",
   "nbconvert_exporter": "python",
   "pygments_lexer": "ipython3",
   "version": "3.6.0"
  }
 },
 "nbformat": 4,
 "nbformat_minor": 2
}
